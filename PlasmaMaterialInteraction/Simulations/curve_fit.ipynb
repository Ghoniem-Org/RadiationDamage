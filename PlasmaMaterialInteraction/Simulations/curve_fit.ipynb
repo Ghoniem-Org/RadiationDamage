{
 "cells": [
  {
   "cell_type": "code",
   "execution_count": 5,
   "metadata": {},
   "outputs": [],
   "source": [
    "from srim import TRIM, SR, Ion, Layer, Target\n",
    "from srim.output import Results\n",
    "import os\n",
    "import numpy as np\n",
    "\n",
    "output_directory = './Results/10KeV_data'\n",
    "curve_fit_dir = 'curve_fit'\n",
    "results = Results(output_directory)"
   ]
  },
  {
   "cell_type": "code",
   "execution_count": 6,
   "metadata": {},
   "outputs": [
    {
     "data": {
      "text/plain": [
       "<srim.output.Phonons at 0x23e55401550>"
      ]
     },
     "execution_count": 6,
     "metadata": {},
     "output_type": "execute_result"
    }
   ],
   "source": [
    "results.phonons"
   ]
  },
  {
   "cell_type": "markdown",
   "metadata": {},
   "source": [
    "### Save to numpy arrays"
   ]
  },
  {
   "cell_type": "code",
   "execution_count": 7,
   "metadata": {},
   "outputs": [],
   "source": [
    "# Plot 1: Damage Energy vs. Depth\n",
    "phon = results.phonons\n",
    "dx_damage = np.mean(np.diff(phon.depth))\n",
    "energy_damage = (phon.ions + phon.recoils) * dx_damage\n",
    "\n",
    "damage_energy_x = phon.depth\n",
    "damage_energy_y = energy_damage / phon.num_ions\n",
    "np.save(os.path.join(output_directory, curve_fit_dir, 'damage_energy_x.npy'), damage_energy_x)\n",
    "np.save(os.path.join(output_directory, curve_fit_dir,'damage_energy_y.npy'), damage_energy_y)\n",
    "\n",
    "# Plot 2: Ionization Energy vs. Depth\n",
    "ioniz = results.ioniz\n",
    "dx_ionization = np.mean(np.diff(ioniz.depth))\n",
    "\n",
    "ionization_x = ioniz.depth\n",
    "ionization_y_ions = ioniz.ions\n",
    "ionization_y_recoils = ioniz.recoils\n",
    "\n",
    "np.save(os.path.join(output_directory, curve_fit_dir,'ionization_x.npy'), ionization_x)\n",
    "np.save(os.path.join(output_directory, curve_fit_dir,'ionization_y_ions.npy'), ionization_y_ions)\n",
    "np.save(os.path.join(output_directory, curve_fit_dir,'ionization_y_recoils.npy'), ionization_y_recoils)\n",
    "\n",
    "# Plot 3: Vacancies vs. Depth\n",
    "vac = results.vacancy\n",
    "vacancy_depth = vac.knock_ons + np.sum(vac.vacancies, axis=1)\n",
    "\n",
    "vacancies_x = vac.depth\n",
    "vacancies_y = vacancy_depth\n",
    "\n",
    "np.save(os.path.join(output_directory, curve_fit_dir,'vacancies_x.npy'), vacancies_x)\n",
    "np.save(os.path.join(output_directory, curve_fit_dir,'vacancies_y.npy'), vacancies_y)"
   ]
  },
  {
   "cell_type": "markdown",
   "metadata": {},
   "source": [
    "### Curve Fit"
   ]
  },
  {
   "cell_type": "code",
   "execution_count": 8,
   "metadata": {},
   "outputs": [
    {
     "name": "stdout",
     "output_type": "stream",
     "text": [
      "Fitted Parameters:\n",
      "Damage Energy: A=2.18e-04, B=0.96, C=6.72e-03\n",
      "Ionization (Ions): A=2.10e+00, B=0.66, C=6.61e-03\n",
      "Ionization (Recoils): A=1.16e-02, B=0.91, C=7.14e-03\n",
      "Vacancies: A=8.69e-04, B=0.92, C=7.29e-03\n"
     ]
    }
   ],
   "source": [
    "import numpy as np\n",
    "import matplotlib.pyplot as plt\n",
    "from scipy.optimize import curve_fit\n",
    "\n",
    "# Define the fitting function\n",
    "def fitting_function(x, A, B, C):\n",
    "    return A * (x ** B) * np.exp(-C * x)\n",
    "\n",
    "# Load saved data\n",
    "damage_energy_x = np.load(os.path.join(output_directory, curve_fit_dir,'damage_energy_x.npy'))\n",
    "damage_energy_y = np.load(os.path.join(output_directory, curve_fit_dir,'damage_energy_y.npy'))\n",
    "\n",
    "ionization_x = np.load(os.path.join(output_directory, curve_fit_dir,'ionization_x.npy'))\n",
    "ionization_y_ions = np.load(os.path.join(output_directory, curve_fit_dir,'ionization_y_ions.npy'))\n",
    "ionization_y_recoils = np.load(os.path.join(output_directory, curve_fit_dir,'ionization_y_recoils.npy'))\n",
    "\n",
    "vacancies_x = np.load(os.path.join(output_directory, curve_fit_dir,'vacancies_x.npy'))\n",
    "vacancies_y = np.load(os.path.join(output_directory, curve_fit_dir,'vacancies_y.npy'))\n",
    "\n",
    "# Fit and plot function\n",
    "def fit_and_plot(x, y, title, filename):\n",
    "    # Initial guess for the fitting parameters\n",
    "    initial_guess = [1, 1, 0.01]\n",
    "    \n",
    "    # Remove zero or negative values to avoid issues with the power function\n",
    "    mask = (x > 0) & (y > 0)\n",
    "    x = x[mask]\n",
    "    y = y[mask]\n",
    "\n",
    "    # Perform curve fitting\n",
    "    params, _ = curve_fit(fitting_function, x, y, p0=initial_guess, maxfev=10000)\n",
    "    \n",
    "    # Generate fitted curve\n",
    "    fitted_y = fitting_function(x, *params)\n",
    "    \n",
    "    # Plotting\n",
    "    plt.figure(figsize=(10, 6))\n",
    "    plt.plot(x, y, 'b-', label='Original Data')\n",
    "    plt.plot(x, fitted_y, 'r--', label=f'Fitted: A={params[0]:.2e}, B={params[1]:.2f}, C={params[2]:.2e}')\n",
    "    plt.xlabel('Depth [Å]')\n",
    "    plt.ylabel('Value')\n",
    "    plt.title(title)\n",
    "    plt.legend()\n",
    "    plt.grid(True)\n",
    "    plt.savefig(os.path.join(output_directory, curve_fit_dir, f'{filename}.png'))\n",
    "    plt.close()\n",
    "    \n",
    "    # Save the fitted parameters\n",
    "    # np.save(f'{filename}_fit_params.npy', params)\n",
    "    \n",
    "    return params\n",
    "\n",
    "# Apply the function to each dataset\n",
    "damage_params = fit_and_plot(damage_energy_x, damage_energy_y, 'Damage Energy Fit', 'damage_energy_fit')\n",
    "ionization_ions_params = fit_and_plot(ionization_x, ionization_y_ions, 'Ionization Energy from Ions Fit', 'ionization_ions_fit')\n",
    "ionization_recoils_params = fit_and_plot(ionization_x, ionization_y_recoils, 'Ionization Energy from Recoils Fit', 'ionization_recoils_fit')\n",
    "vacancies_params = fit_and_plot(vacancies_x, vacancies_y, 'Vacancies Fit', 'vacancies_fit')\n",
    "\n",
    "# Display the fitted parameters\n",
    "print(\"Fitted Parameters:\")\n",
    "print(f\"Damage Energy: A={damage_params[0]:.2e}, B={damage_params[1]:.2f}, C={damage_params[2]:.2e}\")\n",
    "print(f\"Ionization (Ions): A={ionization_ions_params[0]:.2e}, B={ionization_ions_params[1]:.2f}, C={ionization_ions_params[2]:.2e}\")\n",
    "print(f\"Ionization (Recoils): A={ionization_recoils_params[0]:.2e}, B={ionization_recoils_params[1]:.2f}, C={ionization_recoils_params[2]:.2e}\")\n",
    "print(f\"Vacancies: A={vacancies_params[0]:.2e}, B={vacancies_params[1]:.2f}, C={vacancies_params[2]:.2e}\")\n"
   ]
  },
  {
   "cell_type": "code",
   "execution_count": null,
   "metadata": {},
   "outputs": [],
   "source": []
  }
 ],
 "metadata": {
  "kernelspec": {
   "display_name": "Python 3",
   "language": "python",
   "name": "python3"
  },
  "language_info": {
   "codemirror_mode": {
    "name": "ipython",
    "version": 3
   },
   "file_extension": ".py",
   "mimetype": "text/x-python",
   "name": "python",
   "nbconvert_exporter": "python",
   "pygments_lexer": "ipython3",
   "version": "3.12.2"
  }
 },
 "nbformat": 4,
 "nbformat_minor": 4
}
