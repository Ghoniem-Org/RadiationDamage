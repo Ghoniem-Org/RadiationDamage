{
 "cells": [
  {
   "cell_type": "code",
   "execution_count": 1,
   "metadata": {
    "collapsed": false,
    "jupyter": {
     "outputs_hidden": false
    }
   },
   "outputs": [],
   "source": [
    "%matplotlib inline\n",
    "\n",
    "import os\n",
    "from pprint import pprint\n",
    "\n",
    "# Only needed to embed the images in notebook\n",
    "from IPython.display import Image\n",
    "\n",
    "import numpy as np\n",
    "import matplotlib.pyplot as plt\n",
    "\n",
    "from srim import TRIM, SR, Ion, Layer, Target\n",
    "from srim.output import Results"
   ]
  },
  {
   "cell_type": "code",
   "execution_count": 2,
   "metadata": {},
   "outputs": [],
   "source": [
    "# Directories\n",
    "srim_executable_directory = 'C:/Users/Owner/Documents/Repos/SRIM/SRIM-2013' \n",
    "output_directory = 'C:/Users/Owner/Documents/Repos/RadiationDamage/PMI/Simulations/Results/10KeV_data'\n",
    "image_directory = r\"C:\\Users\\Owner\\Documents\\Repos\\RadiationDamage\\PMI\\Simulations\\Results\\10KeV_data\\images\"\n",
    "\n",
    "# srim_executable_directory = 'D:/dev/SRIM-2013' \n",
    "# output_directory = 'D:/dev/simulation_results'\n",
    "# image_directory = 'D:/dev/simulation_results/images'"
   ]
  },
  {
   "cell_type": "code",
   "execution_count": null,
   "metadata": {
    "collapsed": false,
    "jupyter": {
     "outputs_hidden": false
    }
   },
   "outputs": [],
   "source": [
    "# Construct a 10KeV He ion\n",
    "ion = Ion('He', energy=10.0e3)\n",
    "\n",
    "# Construct a layer of tungsten 20um thick with a displacement energy of 50 eV\n",
    "layer = Layer({\n",
    "        'W': {\n",
    "            'stoich': 1.0, \n",
    "            'E_d': 40.0, \n",
    "            'lattice': 0.0, \n",
    "            'surface': 3.0\n",
    "        },\n",
    "}, density=19.3, width=1000.0)\n",
    "\n",
    "# Construct a target of a single layer of Nickel\n",
    "target = Target([layer])\n",
    "trim = TRIM(target, ion, number_ions=5000, calculation=1)\n",
    "results = trim.run(srim_executable_directory)\n"
   ]
  },
  {
   "cell_type": "code",
   "execution_count": null,
   "metadata": {},
   "outputs": [],
   "source": [
    "# equivalent to results variable gotten from `trim.run`\n",
    "results = Results(srim_executable_directory)"
   ]
  },
  {
   "cell_type": "markdown",
   "metadata": {},
   "source": [
    "The results variable contains dictionary of automatically parsed TRIM output files.\n",
    "\n",
    "If you needed to get the results later. Suppose you no longer had the results variable.\n",
    "The results from the calculation were written to the `srim_executable_directory`"
   ]
  },
  {
   "cell_type": "code",
   "execution_count": null,
   "metadata": {
    "collapsed": false,
    "jupyter": {
     "outputs_hidden": false
    }
   },
   "outputs": [],
   "source": [
    "print('Number of Ions: {}'.format(results.ioniz.num_ions))\n",
    "results.__dict__"
   ]
  },
  {
   "cell_type": "markdown",
   "metadata": {},
   "source": [
    "# Copy SRIM files\n",
    "Helper function to copy SRIM files from one directory to another. Covers all of the output files."
   ]
  },
  {
   "cell_type": "code",
   "execution_count": null,
   "metadata": {
    "collapsed": false,
    "jupyter": {
     "outputs_hidden": false
    }
   },
   "outputs": [],
   "source": [
    "\n",
    "os.makedirs(output_directory, exist_ok=True)\n",
    "print('Before:', os.listdir(output_directory))\n",
    "TRIM.copy_output_files(srim_executable_directory, output_directory)\n",
    "print('After:', os.listdir(output_directory))"
   ]
  },
  {
   "cell_type": "markdown",
   "metadata": {},
   "source": [
    "# Damage energy"
   ]
  },
  {
   "cell_type": "code",
   "execution_count": null,
   "metadata": {},
   "outputs": [],
   "source": [
    "def plot_damage_energy(results, ax):\n",
    "    phon = results.phonons\n",
    "    dx = max(phon.depth) / 100.0 # to units of Angstroms\n",
    "    energy_damage = (phon.ions + phon.recoils) * dx\n",
    "    ax.plot(phon.depth, energy_damage / phon.num_ions, label=\"damage\")\n",
    "    return sum(energy_damage)\n",
    "\n",
    "def plot_ionization(results, ax):\n",
    "    ioniz = results.ioniz\n",
    "    dx = max(ioniz.depth) / 100.0 # to units of Angstroms\n",
    "    ax.plot(ioniz.depth, ioniz.ions, label='Ionization from Ions')\n",
    "    ax.plot(ioniz.depth, ioniz.recoils, label='Ionization from Recoils')\n",
    "    \n",
    "def plot_vacancies(results, ax):\n",
    "    vac = results.vacancy\n",
    "    vacancy_depth = vac.knock_ons + np.sum(vac.vacancies, axis=1)\n",
    "    ax.plot(vac.depth, vacancy_depth, label=\"Total vacancies at depth\")\n",
    "    return sum(vacancy_depth)\n"
   ]
  },
  {
   "cell_type": "code",
   "execution_count": null,
   "metadata": {
    "collapsed": false,
    "jupyter": {
     "outputs_hidden": false
    },
    "scrolled": true
   },
   "outputs": [],
   "source": [
    "fig, ax = plt.subplots()\n",
    "energy_damage = plot_damage_energy(results, ax)\n",
    "print(\"Damage energy: {} eV\".format(energy_damage))\n",
    "ax.set_xlabel('Depth [Angstroms]')\n",
    "ax.set_ylabel('eV')\n",
    "ax.legend()\n",
    "\n",
    "fig.suptitle('Damage Energy vs. Depth', fontsize=15)\n",
    "fig.set_size_inches((20, 6))\n",
    "fig.savefig(os.path.join(image_directory, 'damagevsdepth.png'), transparent=True)"
   ]
  },
  {
   "cell_type": "code",
   "execution_count": null,
   "metadata": {},
   "outputs": [],
   "source": [
    "Image(filename=os.path.join(image_directory, 'damagevsdepth.png'))"
   ]
  },
  {
   "cell_type": "code",
   "execution_count": null,
   "metadata": {
    "collapsed": false,
    "jupyter": {
     "outputs_hidden": false
    },
    "scrolled": true
   },
   "outputs": [],
   "source": [
    "fig, ax = plt.subplots()\n",
    "\n",
    "plot_damage_energy(results, ax)\n",
    "plot_ionization(results, ax)\n",
    "ax.legend()\n",
    "ax.set_ylabel('eV')\n",
    "ax.set_xlabel('Depth [Angstroms]')\n",
    "fig.suptitle('Ionization Energy vs Depth', fontsize=15)\n",
    "fig.set_size_inches((20, 6))\n",
    "fig.savefig(os.path.join(image_directory, 'ionizationvsdepth.png'), transparent=True)"
   ]
  },
  {
   "cell_type": "code",
   "execution_count": null,
   "metadata": {},
   "outputs": [],
   "source": [
    "Image(filename=os.path.join(image_directory, 'ionizationvsdepth.png'))"
   ]
  },
  {
   "cell_type": "code",
   "execution_count": null,
   "metadata": {
    "collapsed": false,
    "jupyter": {
     "outputs_hidden": false
    }
   },
   "outputs": [],
   "source": [
    "fig, ax = plt.subplots()\n",
    "\n",
    "total_vacancies = plot_vacancies(results, ax)\n",
    "print(\"Total number of vacancies: {}\".format(total_vacancies))\n",
    "\n",
    "ax.set_xlabel('Depth [Angstroms]')\n",
    "ax.set_ylabel('Number of Vacancies')\n",
    "ax.set_title('Vacancies vs. Depth')\n",
    "ax.legend()\n",
    "fig.set_size_inches((15, 6))\n",
    "fig.savefig(os.path.join(image_directory, 'vacanciesvsdepth.png'), transparent=True)"
   ]
  },
  {
   "cell_type": "code",
   "execution_count": null,
   "metadata": {},
   "outputs": [],
   "source": [
    "Image(filename=os.path.join(image_directory, 'vacanciesvsdepth.png'))"
   ]
  },
  {
   "cell_type": "code",
   "execution_count": null,
   "metadata": {},
   "outputs": [],
   "source": []
  }
 ],
 "metadata": {
  "kernelspec": {
   "display_name": "Python 3 (ipykernel)",
   "language": "python",
   "name": "python3"
  },
  "language_info": {
   "codemirror_mode": {
    "name": "ipython",
    "version": 3
   },
   "file_extension": ".py",
   "mimetype": "text/x-python",
   "name": "python",
   "nbconvert_exporter": "python",
   "pygments_lexer": "ipython3",
   "version": "3.9.19"
  }
 },
 "nbformat": 4,
 "nbformat_minor": 4
}
